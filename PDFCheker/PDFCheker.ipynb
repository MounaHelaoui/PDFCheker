{
 "cells": [
  {
   "cell_type": "code",
   "execution_count": 1,
   "metadata": {},
   "outputs": [],
   "source": [
    "\n",
    "import hashlib \n",
    "from difflib import SequenceMatcher "
   ]
  },
  {
   "cell_type": "code",
   "execution_count": 5,
   "metadata": {},
   "outputs": [
    {
     "name": "stdout",
     "output_type": "stream",
     "text": [
      "These files are identical\n"
     ]
    }
   ],
   "source": [
    "def hash_file(fileName1, fileName2): \n",
    "  \n",
    "    # Use hashlib to store the hash of a file \n",
    "    h1 = hashlib.sha1() \n",
    "    h2 = hashlib.sha1() \n",
    "  \n",
    "    with open(fileName1, \"rb\") as file: \n",
    "  \n",
    "        # Use file.read() to read the size of file \n",
    "        # and read the file in small chunks \n",
    "        # because we cannot read the large files. \n",
    "        chunk = 0\n",
    "        while chunk != b'': \n",
    "            chunk = file.read(1024) \n",
    "            h1.update(chunk) \n",
    "              \n",
    "    with open(fileName2, \"rb\") as file: \n",
    "  \n",
    "        # Use file.read() to read the size of file a \n",
    "        # and read the file in small chunks \n",
    "        # because we cannot read the large files. \n",
    "        chunk = 0\n",
    "        while chunk != b'': \n",
    "            chunk = file.read(1024) \n",
    "            h2.update(chunk) \n",
    "  \n",
    "        # hexdigest() is of 160 bits \n",
    "        return h1.hexdigest(), h2.hexdigest() \n",
    "  \n",
    "  \n",
    "msg1, msg2 = hash_file(\"PDF3.pdf \", \"PDF4.pdf\") \n",
    "  \n",
    "if(msg1 != msg2): \n",
    "    print(\"These files are not identical\") \n",
    "else: \n",
    "    print(\"These files are identical\") "
   ]
  }
 ],
 "metadata": {
  "kernelspec": {
   "display_name": "Python 3",
   "language": "python",
   "name": "python3"
  },
  "language_info": {
   "codemirror_mode": {
    "name": "ipython",
    "version": 3
   },
   "file_extension": ".py",
   "mimetype": "text/x-python",
   "name": "python",
   "nbconvert_exporter": "python",
   "pygments_lexer": "ipython3",
   "version": "3.11.2"
  }
 },
 "nbformat": 4,
 "nbformat_minor": 2
}
